{
  "cells": [
    {
      "cell_type": "markdown",
      "metadata": {
        "id": "view-in-github",
        "colab_type": "text"
      },
      "source": [
        "<a href=\"https://colab.research.google.com/github/IamPrachu7/To-Do-List/blob/main/todo_list_manager.ipynb\" target=\"_parent\"><img src=\"https://colab.research.google.com/assets/colab-badge.svg\" alt=\"Open In Colab\"/></a>"
      ]
    },
    {
      "cell_type": "markdown",
      "id": "27f7aab6",
      "metadata": {
        "id": "27f7aab6"
      },
      "source": [
        "#✨ To-Do List (CLI)\n",
        "\n",
        "This notebook walks you through building a simple **Command-Line To-Do List Manager** with:\n",
        "- A clean text-based menu\n",
        "- Multiple-task adding\n",
        "- Mark-as-done, delete\n",
        "- A **progress pie chart** using `matplotlib`\n",
        "\n"
      ]
    },
    {
      "cell_type": "markdown",
      "id": "ddacc360",
      "metadata": {
        "id": "ddacc360"
      },
      "source": [
        "### 1) Imports"
      ]
    },
    {
      "cell_type": "code",
      "execution_count": 1,
      "id": "4013d541",
      "metadata": {
        "id": "4013d541"
      },
      "outputs": [],
      "source": [
        "import matplotlib.pyplot as plt"
      ]
    },
    {
      "cell_type": "markdown",
      "id": "03c9d69e",
      "metadata": {
        "id": "03c9d69e"
      },
      "source": [
        "## 2) Helper: Display Tasks"
      ]
    },
    {
      "cell_type": "code",
      "execution_count": 6,
      "id": "b8cb9dd2",
      "metadata": {
        "id": "b8cb9dd2"
      },
      "outputs": [],
      "source": [
        "def display_tasks(tasks):\n",
        "    if not tasks:\n",
        "        print(\"No tasks in the list.\")\n",
        "    else:\n",
        "        print(\"\\n--- To-Do List ---\")\n",
        "        for index, task in enumerate(tasks, start=1):\n",
        "            status = \"✓\" if task[\"completed\"] else \"◻\"\n",
        "            print(f\"{index}. [{status}] {task['name']}\")"
      ]
    },
    {
      "cell_type": "markdown",
      "id": "daa579bb",
      "metadata": {
        "id": "daa579bb"
      },
      "source": [
        "## 3) Helper: Show Progress Chart"
      ]
    },
    {
      "cell_type": "code",
      "execution_count": 7,
      "id": "84521c6e",
      "metadata": {
        "id": "84521c6e"
      },
      "outputs": [],
      "source": [
        "def show_progress(tasks):\n",
        "    if not tasks:\n",
        "        print(\"No tasks to analyze.\")\n",
        "        return\n",
        "\n",
        "    completed = sum(1 for task in tasks if task[\"completed\"])\n",
        "    pending = len(tasks) - completed\n",
        "    labels = ['Completed', 'Pending']\n",
        "    sizes = [completed, pending]\n",
        "    colors = ['#4CAF50', '#FF9800']  # Feel free to change colors\n",
        "\n",
        "    plt.figure(figsize=(6, 6))\n",
        "    plt.pie(sizes, labels=labels, colors=colors, autopct='%1.1f%%', startangle=90)\n",
        "    plt.axis('equal')\n",
        "    plt.title(\"Task Completion Progress\", pad=20)\n",
        "    plt.show()"
      ]
    },
    {
      "cell_type": "markdown",
      "id": "187d1f78",
      "metadata": {
        "id": "187d1f78"
      },
      "source": [
        "### 4) Helper: Add Multiple Tasks"
      ]
    },
    {
      "cell_type": "code",
      "execution_count": 8,
      "id": "18040cdb",
      "metadata": {
        "id": "18040cdb"
      },
      "outputs": [],
      "source": [
        "def add_multiple_tasks():\n",
        "    tasks_to_add = []\n",
        "    print(\"\\n--- Add Multiple Tasks ---\")\n",
        "    print(\"(Enter 'done' when finished or 'q' to cancel)\")\n",
        "    while True:\n",
        "        task = input(\"Add task: \").strip()\n",
        "        if task.lower() == 'done':\n",
        "            break\n",
        "        elif task.lower() == 'q':\n",
        "            return None\n",
        "        elif task:\n",
        "            tasks_to_add.append({\"name\": task, \"completed\": False})\n",
        "        else:\n",
        "            print(\"⚠ Task name cannot be empty.\")\n",
        "    return tasks_to_add"
      ]
    },
    {
      "cell_type": "markdown",
      "id": "c666d908",
      "metadata": {
        "id": "c666d908"
      },
      "source": [
        "## 5) Main App Loop"
      ]
    },
    {
      "cell_type": "code",
      "execution_count": 9,
      "id": "b1c9a8bf",
      "metadata": {
        "colab": {
          "base_uri": "https://localhost:8080/",
          "height": 1000
        },
        "id": "b1c9a8bf",
        "outputId": "6c55cf04-92cb-40e2-cf4c-7410da7b9cdb"
      },
      "outputs": [
        {
          "name": "stdout",
          "output_type": "stream",
          "text": [
            "\n",
            "✨ To-Do List Manager ✨\n",
            "\n",
            "Options:\n",
            "1. ➕ Add Task(s)\n",
            "2. 👀 View Tasks\n",
            "3. ✔ Mark Task as Done\n",
            "4. ❌ Delete Task\n",
            "5. 📊 View Progress Chart\n",
            "6. 🚪 Exit\n",
            "Choose an option (1-6): 1\n",
            "\n",
            "--- Add Multiple Tasks ---\n",
            "(Enter 'done' when finished or 'q' to cancel)\n",
            "Add task: hello \n",
            "Add task: hi\n",
            "Add task: how\n",
            "Add task: are\n",
            "Add task: you\n",
            "Add task: done\n",
            "\n",
            "Added 5 tasks!\n",
            "\n",
            "Options:\n",
            "1. ➕ Add Task(s)\n",
            "2. 👀 View Tasks\n",
            "3. ✔ Mark Task as Done\n",
            "4. ❌ Delete Task\n",
            "5. 📊 View Progress Chart\n",
            "6. 🚪 Exit\n",
            "Choose an option (1-6): 3\n",
            "\n",
            "--- To-Do List ---\n",
            "1. [◻] hello\n",
            "2. [◻] hi\n",
            "3. [◻] how\n",
            "4. [◻] are\n",
            "5. [◻] you\n",
            "Enter task number to mark as done: 1\n",
            "Marked 'hello' as done!\n",
            "\n",
            "Options:\n",
            "1. ➕ Add Task(s)\n",
            "2. 👀 View Tasks\n",
            "3. ✔ Mark Task as Done\n",
            "4. ❌ Delete Task\n",
            "5. 📊 View Progress Chart\n",
            "6. 🚪 Exit\n",
            "Choose an option (1-6): 3\n",
            "\n",
            "--- To-Do List ---\n",
            "1. [✓] hello\n",
            "2. [◻] hi\n",
            "3. [◻] how\n",
            "4. [◻] are\n",
            "5. [◻] you\n",
            "Enter task number to mark as done: 4\n",
            "Marked 'are' as done!\n",
            "\n",
            "Options:\n",
            "1. ➕ Add Task(s)\n",
            "2. 👀 View Tasks\n",
            "3. ✔ Mark Task as Done\n",
            "4. ❌ Delete Task\n",
            "5. 📊 View Progress Chart\n",
            "6. 🚪 Exit\n",
            "Choose an option (1-6): 4\n",
            "\n",
            "--- To-Do List ---\n",
            "1. [✓] hello\n",
            "2. [◻] hi\n",
            "3. [◻] how\n",
            "4. [✓] are\n",
            "5. [◻] you\n",
            "Enter task number to delete: 5\n",
            "Deleted 'you'!\n",
            "\n",
            "Options:\n",
            "1. ➕ Add Task(s)\n",
            "2. 👀 View Tasks\n",
            "3. ✔ Mark Task as Done\n",
            "4. ❌ Delete Task\n",
            "5. 📊 View Progress Chart\n",
            "6. 🚪 Exit\n",
            "Choose an option (1-6): 5\n"
          ]
        },
        {
          "output_type": "display_data",
          "data": {
            "text/plain": [
              "<Figure size 600x600 with 1 Axes>"
            ],
            "image/png": "[encoded data removed]"
          },
          "metadata": {}
        },
        {
          "output_type": "stream",
          "name": "stdout",
          "text": [
            "\n",
            "Options:\n",
            "1. ➕ Add Task(s)\n",
            "2. 👀 View Tasks\n",
            "3. ✔ Mark Task as Done\n",
            "4. ❌ Delete Task\n",
            "5. 📊 View Progress Chart\n",
            "6. 🚪 Exit\n",
            "Choose an option (1-6): 6\n",
            "\n",
            "Goodbye! Your tasks await you next time. 👋\n"
          ]
        }
      ],
      "source": [
        "def main():\n",
        "    tasks = []\n",
        "    print(\"\\n✨ To-Do List Manager ✨\")\n",
        "\n",
        "    while True:\n",
        "\n",
        "        print(\"\\nOptions:\\n1. ➕ Add Task(s)\\n2. 👀 View Tasks\\n3. ✔ Mark Task as Done\\n4. ❌ Delete Task\\n5. 📊 View Progress Chart\\n6. 🚪 Exit\")\n",
        "        choice = input(\"Choose an option (1-6): \").strip()\n",
        "\n",
        "        if choice == '1':\n",
        "            new_tasks = add_multiple_tasks()\n",
        "            if new_tasks is not None:\n",
        "                tasks.extend(new_tasks)\n",
        "                print(f\"\\nAdded {len(new_tasks)} tasks!\")\n",
        "        elif choice == '2':\n",
        "            display_tasks(tasks)\n",
        "        elif choice == '3':\n",
        "            display_tasks(tasks)\n",
        "            if tasks:\n",
        "                try:\n",
        "                    task_index = int(input(\"Enter task number to mark as done: \")) - 1\n",
        "                    if 0 <= task_index < len(tasks):\n",
        "                        tasks[task_index][\"completed\"] = True\n",
        "                        print(f\"Marked '{tasks[task_index]['name']}' as done!\")\n",
        "                    else:\n",
        "                        print(\"Invalid task number.\")\n",
        "                except ValueError:\n",
        "                    print(\"Please enter a valid number.\")\n",
        "        elif choice == '4':\n",
        "            display_tasks(tasks)\n",
        "            if tasks:\n",
        "                try:\n",
        "                    task_index = int(input(\"Enter task number to delete: \")) - 1\n",
        "                    if 0 <= task_index < len(tasks):\n",
        "                        removed_task = tasks.pop(task_index)\n",
        "                        print(f\"Deleted '{removed_task['name']}'!\")\n",
        "                    else:\n",
        "                        print(\"Invalid task number.\")\n",
        "                except ValueError:\n",
        "                    print(\"Please enter a valid number.\")\n",
        "        elif choice == '5':\n",
        "            show_progress(tasks)\n",
        "        elif choice == '6':\n",
        "            print(\"\\nGoodbye! Your tasks await you next time. 👋\")\n",
        "            break\n",
        "        else:\n",
        "            print(\"Invalid option. Please choose 1-6.\")\n",
        "main()"
      ]
    }
  ],
  "metadata": {
    "kernelspec": {
      "display_name": "Python 3",
      "language": "python",
      "name": "python3"
    },
    "language_info": {
      "name": "python",
      "pygments_lexer": "ipython3"
    },
    "colab": {
      "provenance": [],
      "include_colab_link": true
    }
  },
  "nbformat": 4,
  "nbformat_minor": 5
}